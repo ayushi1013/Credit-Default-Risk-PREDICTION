{
  "nbformat": 4,
  "nbformat_minor": 0,
  "metadata": {
    "colab": {
      "name": "CreditCard.ipynb",
      "provenance": []
    },
    "kernelspec": {
      "name": "python3",
      "display_name": "Python 3"
    },
    "language_info": {
      "name": "python"
    }
  },
  "cells": [
    {
      "cell_type": "code",
      "metadata": {
        "id": "NqoA4cNkLdQq"
      },
      "source": [
        "import matplotlib.pyplot as plt\n",
        "import numpy as np\n",
        "import pandas as pd\n",
        "from sklearn.model_selection import train_test_split\n",
        "from sklearn.model_selection import cross_val_score\n",
        "from sklearn.model_selection import KFold\n",
        "from sklearn.pipeline import Pipeline\n",
        "from sklearn.preprocessing import MinMaxScaler\n",
        "from tensorflow.python.keras.models import Sequential\n",
        "from tensorflow.python.keras.layers import Dense,Dropout \n",
        "from tensorflow.python.keras.wrappers.scikit_learn import KerasClassifier\n",
        "from keras.constraints import maxnorm"
      ],
      "execution_count": 23,
      "outputs": []
    },
    {
      "cell_type": "code",
      "metadata": {
        "id": "lT-ppytpGWRq",
        "colab": {
          "resources": {
            "http://localhost:8080/nbextensions/google.colab/files.js": {
              "data": "Ly8gQ29weXJpZ2h0IDIwMTcgR29vZ2xlIExMQwovLwovLyBMaWNlbnNlZCB1bmRlciB0aGUgQXBhY2hlIExpY2Vuc2UsIFZlcnNpb24gMi4wICh0aGUgIkxpY2Vuc2UiKTsKLy8geW91IG1heSBub3QgdXNlIHRoaXMgZmlsZSBleGNlcHQgaW4gY29tcGxpYW5jZSB3aXRoIHRoZSBMaWNlbnNlLgovLyBZb3UgbWF5IG9idGFpbiBhIGNvcHkgb2YgdGhlIExpY2Vuc2UgYXQKLy8KLy8gICAgICBodHRwOi8vd3d3LmFwYWNoZS5vcmcvbGljZW5zZXMvTElDRU5TRS0yLjAKLy8KLy8gVW5sZXNzIHJlcXVpcmVkIGJ5IGFwcGxpY2FibGUgbGF3IG9yIGFncmVlZCB0byBpbiB3cml0aW5nLCBzb2Z0d2FyZQovLyBkaXN0cmlidXRlZCB1bmRlciB0aGUgTGljZW5zZSBpcyBkaXN0cmlidXRlZCBvbiBhbiAiQVMgSVMiIEJBU0lTLAovLyBXSVRIT1VUIFdBUlJBTlRJRVMgT1IgQ09ORElUSU9OUyBPRiBBTlkgS0lORCwgZWl0aGVyIGV4cHJlc3Mgb3IgaW1wbGllZC4KLy8gU2VlIHRoZSBMaWNlbnNlIGZvciB0aGUgc3BlY2lmaWMgbGFuZ3VhZ2UgZ292ZXJuaW5nIHBlcm1pc3Npb25zIGFuZAovLyBsaW1pdGF0aW9ucyB1bmRlciB0aGUgTGljZW5zZS4KCi8qKgogKiBAZmlsZW92ZXJ2aWV3IEhlbHBlcnMgZm9yIGdvb2dsZS5jb2xhYiBQeXRob24gbW9kdWxlLgogKi8KKGZ1bmN0aW9uKHNjb3BlKSB7CmZ1bmN0aW9uIHNwYW4odGV4dCwgc3R5bGVBdHRyaWJ1dGVzID0ge30pIHsKICBjb25zdCBlbGVtZW50ID0gZG9jdW1lbnQuY3JlYXRlRWxlbWVudCgnc3BhbicpOwogIGVsZW1lbnQudGV4dENvbnRlbnQgPSB0ZXh0OwogIGZvciAoY29uc3Qga2V5IG9mIE9iamVjdC5rZXlzKHN0eWxlQXR0cmlidXRlcykpIHsKICAgIGVsZW1lbnQuc3R5bGVba2V5XSA9IHN0eWxlQXR0cmlidXRlc1trZXldOwogIH0KICByZXR1cm4gZWxlbWVudDsKfQoKLy8gTWF4IG51bWJlciBvZiBieXRlcyB3aGljaCB3aWxsIGJlIHVwbG9hZGVkIGF0IGEgdGltZS4KY29uc3QgTUFYX1BBWUxPQURfU0laRSA9IDEwMCAqIDEwMjQ7CgpmdW5jdGlvbiBfdXBsb2FkRmlsZXMoaW5wdXRJZCwgb3V0cHV0SWQpIHsKICBjb25zdCBzdGVwcyA9IHVwbG9hZEZpbGVzU3RlcChpbnB1dElkLCBvdXRwdXRJZCk7CiAgY29uc3Qgb3V0cHV0RWxlbWVudCA9IGRvY3VtZW50LmdldEVsZW1lbnRCeUlkKG91dHB1dElkKTsKICAvLyBDYWNoZSBzdGVwcyBvbiB0aGUgb3V0cHV0RWxlbWVudCB0byBtYWtlIGl0IGF2YWlsYWJsZSBmb3IgdGhlIG5leHQgY2FsbAogIC8vIHRvIHVwbG9hZEZpbGVzQ29udGludWUgZnJvbSBQeXRob24uCiAgb3V0cHV0RWxlbWVudC5zdGVwcyA9IHN0ZXBzOwoKICByZXR1cm4gX3VwbG9hZEZpbGVzQ29udGludWUob3V0cHV0SWQpOwp9CgovLyBUaGlzIGlzIHJvdWdobHkgYW4gYXN5bmMgZ2VuZXJhdG9yIChub3Qgc3VwcG9ydGVkIGluIHRoZSBicm93c2VyIHlldCksCi8vIHdoZXJlIHRoZXJlIGFyZSBtdWx0aXBsZSBhc3luY2hyb25vdXMgc3RlcHMgYW5kIHRoZSBQeXRob24gc2lkZSBpcyBnb2luZwovLyB0byBwb2xsIGZvciBjb21wbGV0aW9uIG9mIGVhY2ggc3RlcC4KLy8gVGhpcyB1c2VzIGEgUHJvbWlzZSB0byBibG9jayB0aGUgcHl0aG9uIHNpZGUgb24gY29tcGxldGlvbiBvZiBlYWNoIHN0ZXAsCi8vIHRoZW4gcGFzc2VzIHRoZSByZXN1bHQgb2YgdGhlIHByZXZpb3VzIHN0ZXAgYXMgdGhlIGlucHV0IHRvIHRoZSBuZXh0IHN0ZXAuCmZ1bmN0aW9uIF91cGxvYWRGaWxlc0NvbnRpbnVlKG91dHB1dElkKSB7CiAgY29uc3Qgb3V0cHV0RWxlbWVudCA9IGRvY3VtZW50LmdldEVsZW1lbnRCeUlkKG91dHB1dElkKTsKICBjb25zdCBzdGVwcyA9IG91dHB1dEVsZW1lbnQuc3RlcHM7CgogIGNvbnN0IG5leHQgPSBzdGVwcy5uZXh0KG91dHB1dEVsZW1lbnQubGFzdFByb21pc2VWYWx1ZSk7CiAgcmV0dXJuIFByb21pc2UucmVzb2x2ZShuZXh0LnZhbHVlLnByb21pc2UpLnRoZW4oKHZhbHVlKSA9PiB7CiAgICAvLyBDYWNoZSB0aGUgbGFzdCBwcm9taXNlIHZhbHVlIHRvIG1ha2UgaXQgYXZhaWxhYmxlIHRvIHRoZSBuZXh0CiAgICAvLyBzdGVwIG9mIHRoZSBnZW5lcmF0b3IuCiAgICBvdXRwdXRFbGVtZW50Lmxhc3RQcm9taXNlVmFsdWUgPSB2YWx1ZTsKICAgIHJldHVybiBuZXh0LnZhbHVlLnJlc3BvbnNlOwogIH0pOwp9CgovKioKICogR2VuZXJhdG9yIGZ1bmN0aW9uIHdoaWNoIGlzIGNhbGxlZCBiZXR3ZWVuIGVhY2ggYXN5bmMgc3RlcCBvZiB0aGUgdXBsb2FkCiAqIHByb2Nlc3MuCiAqIEBwYXJhbSB7c3RyaW5nfSBpbnB1dElkIEVsZW1lbnQgSUQgb2YgdGhlIGlucHV0IGZpbGUgcGlja2VyIGVsZW1lbnQuCiAqIEBwYXJhbSB7c3RyaW5nfSBvdXRwdXRJZCBFbGVtZW50IElEIG9mIHRoZSBvdXRwdXQgZGlzcGxheS4KICogQHJldHVybiB7IUl0ZXJhYmxlPCFPYmplY3Q+fSBJdGVyYWJsZSBvZiBuZXh0IHN0ZXBzLgogKi8KZnVuY3Rpb24qIHVwbG9hZEZpbGVzU3RlcChpbnB1dElkLCBvdXRwdXRJZCkgewogIGNvbnN0IGlucHV0RWxlbWVudCA9IGRvY3VtZW50LmdldEVsZW1lbnRCeUlkKGlucHV0SWQpOwogIGlucHV0RWxlbWVudC5kaXNhYmxlZCA9IGZhbHNlOwoKICBjb25zdCBvdXRwdXRFbGVtZW50ID0gZG9jdW1lbnQuZ2V0RWxlbWVudEJ5SWQob3V0cHV0SWQpOwogIG91dHB1dEVsZW1lbnQuaW5uZXJIVE1MID0gJyc7CgogIGNvbnN0IHBpY2tlZFByb21pc2UgPSBuZXcgUHJvbWlzZSgocmVzb2x2ZSkgPT4gewogICAgaW5wdXRFbGVtZW50LmFkZEV2ZW50TGlzdGVuZXIoJ2NoYW5nZScsIChlKSA9PiB7CiAgICAgIHJlc29sdmUoZS50YXJnZXQuZmlsZXMpOwogICAgfSk7CiAgfSk7CgogIGNvbnN0IGNhbmNlbCA9IGRvY3VtZW50LmNyZWF0ZUVsZW1lbnQoJ2J1dHRvbicpOwogIGlucHV0RWxlbWVudC5wYXJlbnRFbGVtZW50LmFwcGVuZENoaWxkKGNhbmNlbCk7CiAgY2FuY2VsLnRleHRDb250ZW50ID0gJ0NhbmNlbCB1cGxvYWQnOwogIGNvbnN0IGNhbmNlbFByb21pc2UgPSBuZXcgUHJvbWlzZSgocmVzb2x2ZSkgPT4gewogICAgY2FuY2VsLm9uY2xpY2sgPSAoKSA9PiB7CiAgICAgIHJlc29sdmUobnVsbCk7CiAgICB9OwogIH0pOwoKICAvLyBXYWl0IGZvciB0aGUgdXNlciB0byBwaWNrIHRoZSBmaWxlcy4KICBjb25zdCBmaWxlcyA9IHlpZWxkIHsKICAgIHByb21pc2U6IFByb21pc2UucmFjZShbcGlja2VkUHJvbWlzZSwgY2FuY2VsUHJvbWlzZV0pLAogICAgcmVzcG9uc2U6IHsKICAgICAgYWN0aW9uOiAnc3RhcnRpbmcnLAogICAgfQogIH07CgogIGNhbmNlbC5yZW1vdmUoKTsKCiAgLy8gRGlzYWJsZSB0aGUgaW5wdXQgZWxlbWVudCBzaW5jZSBmdXJ0aGVyIHBpY2tzIGFyZSBub3QgYWxsb3dlZC4KICBpbnB1dEVsZW1lbnQuZGlzYWJsZWQgPSB0cnVlOwoKICBpZiAoIWZpbGVzKSB7CiAgICByZXR1cm4gewogICAgICByZXNwb25zZTogewogICAgICAgIGFjdGlvbjogJ2NvbXBsZXRlJywKICAgICAgfQogICAgfTsKICB9CgogIGZvciAoY29uc3QgZmlsZSBvZiBmaWxlcykgewogICAgY29uc3QgbGkgPSBkb2N1bWVudC5jcmVhdGVFbGVtZW50KCdsaScpOwogICAgbGkuYXBwZW5kKHNwYW4oZmlsZS5uYW1lLCB7Zm9udFdlaWdodDogJ2JvbGQnfSkpOwogICAgbGkuYXBwZW5kKHNwYW4oCiAgICAgICAgYCgke2ZpbGUudHlwZSB8fCAnbi9hJ30pIC0gJHtmaWxlLnNpemV9IGJ5dGVzLCBgICsKICAgICAgICBgbGFzdCBtb2RpZmllZDogJHsKICAgICAgICAgICAgZmlsZS5sYXN0TW9kaWZpZWREYXRlID8gZmlsZS5sYXN0TW9kaWZpZWREYXRlLnRvTG9jYWxlRGF0ZVN0cmluZygpIDoKICAgICAgICAgICAgICAgICAgICAgICAgICAgICAgICAgICAgJ24vYSd9IC0gYCkpOwogICAgY29uc3QgcGVyY2VudCA9IHNwYW4oJzAlIGRvbmUnKTsKICAgIGxpLmFwcGVuZENoaWxkKHBlcmNlbnQpOwoKICAgIG91dHB1dEVsZW1lbnQuYXBwZW5kQ2hpbGQobGkpOwoKICAgIGNvbnN0IGZpbGVEYXRhUHJvbWlzZSA9IG5ldyBQcm9taXNlKChyZXNvbHZlKSA9PiB7CiAgICAgIGNvbnN0IHJlYWRlciA9IG5ldyBGaWxlUmVhZGVyKCk7CiAgICAgIHJlYWRlci5vbmxvYWQgPSAoZSkgPT4gewogICAgICAgIHJlc29sdmUoZS50YXJnZXQucmVzdWx0KTsKICAgICAgfTsKICAgICAgcmVhZGVyLnJlYWRBc0FycmF5QnVmZmVyKGZpbGUpOwogICAgfSk7CiAgICAvLyBXYWl0IGZvciB0aGUgZGF0YSB0byBiZSByZWFkeS4KICAgIGxldCBmaWxlRGF0YSA9IHlpZWxkIHsKICAgICAgcHJvbWlzZTogZmlsZURhdGFQcm9taXNlLAogICAgICByZXNwb25zZTogewogICAgICAgIGFjdGlvbjogJ2NvbnRpbnVlJywKICAgICAgfQogICAgfTsKCiAgICAvLyBVc2UgYSBjaHVua2VkIHNlbmRpbmcgdG8gYXZvaWQgbWVzc2FnZSBzaXplIGxpbWl0cy4gU2VlIGIvNjIxMTU2NjAuCiAgICBsZXQgcG9zaXRpb24gPSAwOwogICAgZG8gewogICAgICBjb25zdCBsZW5ndGggPSBNYXRoLm1pbihmaWxlRGF0YS5ieXRlTGVuZ3RoIC0gcG9zaXRpb24sIE1BWF9QQVlMT0FEX1NJWkUpOwogICAgICBjb25zdCBjaHVuayA9IG5ldyBVaW50OEFycmF5KGZpbGVEYXRhLCBwb3NpdGlvbiwgbGVuZ3RoKTsKICAgICAgcG9zaXRpb24gKz0gbGVuZ3RoOwoKICAgICAgY29uc3QgYmFzZTY0ID0gYnRvYShTdHJpbmcuZnJvbUNoYXJDb2RlLmFwcGx5KG51bGwsIGNodW5rKSk7CiAgICAgIHlpZWxkIHsKICAgICAgICByZXNwb25zZTogewogICAgICAgICAgYWN0aW9uOiAnYXBwZW5kJywKICAgICAgICAgIGZpbGU6IGZpbGUubmFtZSwKICAgICAgICAgIGRhdGE6IGJhc2U2NCwKICAgICAgICB9LAogICAgICB9OwoKICAgICAgbGV0IHBlcmNlbnREb25lID0gZmlsZURhdGEuYnl0ZUxlbmd0aCA9PT0gMCA/CiAgICAgICAgICAxMDAgOgogICAgICAgICAgTWF0aC5yb3VuZCgocG9zaXRpb24gLyBmaWxlRGF0YS5ieXRlTGVuZ3RoKSAqIDEwMCk7CiAgICAgIHBlcmNlbnQudGV4dENvbnRlbnQgPSBgJHtwZXJjZW50RG9uZX0lIGRvbmVgOwoKICAgIH0gd2hpbGUgKHBvc2l0aW9uIDwgZmlsZURhdGEuYnl0ZUxlbmd0aCk7CiAgfQoKICAvLyBBbGwgZG9uZS4KICB5aWVsZCB7CiAgICByZXNwb25zZTogewogICAgICBhY3Rpb246ICdjb21wbGV0ZScsCiAgICB9CiAgfTsKfQoKc2NvcGUuZ29vZ2xlID0gc2NvcGUuZ29vZ2xlIHx8IHt9OwpzY29wZS5nb29nbGUuY29sYWIgPSBzY29wZS5nb29nbGUuY29sYWIgfHwge307CnNjb3BlLmdvb2dsZS5jb2xhYi5fZmlsZXMgPSB7CiAgX3VwbG9hZEZpbGVzLAogIF91cGxvYWRGaWxlc0NvbnRpbnVlLAp9Owp9KShzZWxmKTsK",
              "ok": true,
              "headers": [
                [
                  "content-type",
                  "application/javascript"
                ]
              ],
              "status": 200,
              "status_text": ""
            }
          },
          "base_uri": "https://localhost:8080/",
          "height": 72
        },
        "outputId": "e055c4cb-a5e5-4878-edfe-28272c53b672"
      },
      "source": [
        "from google.colab import files\n",
        "uploaded = files.upload()"
      ],
      "execution_count": 1,
      "outputs": [
        {
          "output_type": "display_data",
          "data": {
            "text/html": [
              "\n",
              "     <input type=\"file\" id=\"files-04db278b-6cab-403a-ae62-5d420715d7a7\" name=\"files[]\" multiple disabled\n",
              "        style=\"border:none\" />\n",
              "     <output id=\"result-04db278b-6cab-403a-ae62-5d420715d7a7\">\n",
              "      Upload widget is only available when the cell has been executed in the\n",
              "      current browser session. Please rerun this cell to enable.\n",
              "      </output>\n",
              "      <script src=\"/nbextensions/google.colab/files.js\"></script> "
            ],
            "text/plain": [
              "<IPython.core.display.HTML object>"
            ]
          },
          "metadata": {
            "tags": []
          }
        },
        {
          "output_type": "stream",
          "text": [
            "Saving creditcard.csv to creditcard.csv\n"
          ],
          "name": "stdout"
        }
      ]
    },
    {
      "cell_type": "code",
      "metadata": {
        "colab": {
          "base_uri": "https://localhost:8080/",
          "height": 317
        },
        "id": "co7Le0UcTHXE",
        "outputId": "b5b2ab5c-6aaa-443b-a8d7-973fb038e28a"
      },
      "source": [
        "data = pd.read_csv(\"creditcard.csv\")\n",
        "data.describe()"
      ],
      "execution_count": 3,
      "outputs": [
        {
          "output_type": "execute_result",
          "data": {
            "text/html": [
              "<div>\n",
              "<style scoped>\n",
              "    .dataframe tbody tr th:only-of-type {\n",
              "        vertical-align: middle;\n",
              "    }\n",
              "\n",
              "    .dataframe tbody tr th {\n",
              "        vertical-align: top;\n",
              "    }\n",
              "\n",
              "    .dataframe thead th {\n",
              "        text-align: right;\n",
              "    }\n",
              "</style>\n",
              "<table border=\"1\" class=\"dataframe\">\n",
              "  <thead>\n",
              "    <tr style=\"text-align: right;\">\n",
              "      <th></th>\n",
              "      <th>V1</th>\n",
              "      <th>V2</th>\n",
              "      <th>V3</th>\n",
              "      <th>V4</th>\n",
              "      <th>V5</th>\n",
              "      <th>V6</th>\n",
              "      <th>V7</th>\n",
              "      <th>V8</th>\n",
              "      <th>V9</th>\n",
              "      <th>V10</th>\n",
              "      <th>V11</th>\n",
              "      <th>V12</th>\n",
              "      <th>V13</th>\n",
              "      <th>V14</th>\n",
              "      <th>V15</th>\n",
              "      <th>V16</th>\n",
              "      <th>V17</th>\n",
              "      <th>V18</th>\n",
              "      <th>V19</th>\n",
              "      <th>V20</th>\n",
              "      <th>V21</th>\n",
              "      <th>V22</th>\n",
              "      <th>V23</th>\n",
              "      <th>V24</th>\n",
              "      <th>V25</th>\n",
              "      <th>V26</th>\n",
              "      <th>V27</th>\n",
              "      <th>V28</th>\n",
              "      <th>Amount</th>\n",
              "      <th>Class</th>\n",
              "    </tr>\n",
              "  </thead>\n",
              "  <tbody>\n",
              "    <tr>\n",
              "      <th>count</th>\n",
              "      <td>2.848070e+05</td>\n",
              "      <td>2.848070e+05</td>\n",
              "      <td>2.848070e+05</td>\n",
              "      <td>2.848070e+05</td>\n",
              "      <td>2.848070e+05</td>\n",
              "      <td>2.848070e+05</td>\n",
              "      <td>2.848070e+05</td>\n",
              "      <td>2.848070e+05</td>\n",
              "      <td>2.848070e+05</td>\n",
              "      <td>2.848070e+05</td>\n",
              "      <td>2.848070e+05</td>\n",
              "      <td>2.848070e+05</td>\n",
              "      <td>2.848070e+05</td>\n",
              "      <td>2.848070e+05</td>\n",
              "      <td>2.848070e+05</td>\n",
              "      <td>2.848070e+05</td>\n",
              "      <td>2.848070e+05</td>\n",
              "      <td>2.848070e+05</td>\n",
              "      <td>2.848070e+05</td>\n",
              "      <td>2.848070e+05</td>\n",
              "      <td>2.848070e+05</td>\n",
              "      <td>2.848070e+05</td>\n",
              "      <td>2.848070e+05</td>\n",
              "      <td>2.848070e+05</td>\n",
              "      <td>2.848070e+05</td>\n",
              "      <td>2.848070e+05</td>\n",
              "      <td>2.848070e+05</td>\n",
              "      <td>2.848070e+05</td>\n",
              "      <td>284807.000000</td>\n",
              "      <td>284807.000000</td>\n",
              "    </tr>\n",
              "    <tr>\n",
              "      <th>mean</th>\n",
              "      <td>1.758743e-12</td>\n",
              "      <td>-8.252298e-13</td>\n",
              "      <td>-9.636929e-13</td>\n",
              "      <td>8.316157e-13</td>\n",
              "      <td>1.591952e-13</td>\n",
              "      <td>4.247354e-13</td>\n",
              "      <td>-3.050180e-13</td>\n",
              "      <td>8.693344e-14</td>\n",
              "      <td>-1.179712e-12</td>\n",
              "      <td>7.094854e-13</td>\n",
              "      <td>1.875015e-12</td>\n",
              "      <td>1.053488e-12</td>\n",
              "      <td>7.137527e-13</td>\n",
              "      <td>-1.491363e-13</td>\n",
              "      <td>-5.225914e-13</td>\n",
              "      <td>-2.280712e-13</td>\n",
              "      <td>-6.428517e-13</td>\n",
              "      <td>4.958987e-13</td>\n",
              "      <td>7.060712e-13</td>\n",
              "      <td>1.766038e-12</td>\n",
              "      <td>-3.406543e-13</td>\n",
              "      <td>-5.713163e-13</td>\n",
              "      <td>-9.725303e-13</td>\n",
              "      <td>1.464139e-12</td>\n",
              "      <td>-6.989087e-13</td>\n",
              "      <td>-5.615260e-13</td>\n",
              "      <td>3.332112e-12</td>\n",
              "      <td>-3.518886e-12</td>\n",
              "      <td>88.349619</td>\n",
              "      <td>0.001727</td>\n",
              "    </tr>\n",
              "    <tr>\n",
              "      <th>std</th>\n",
              "      <td>1.958696e+00</td>\n",
              "      <td>1.651309e+00</td>\n",
              "      <td>1.516255e+00</td>\n",
              "      <td>1.415869e+00</td>\n",
              "      <td>1.380247e+00</td>\n",
              "      <td>1.332271e+00</td>\n",
              "      <td>1.237094e+00</td>\n",
              "      <td>1.194353e+00</td>\n",
              "      <td>1.098632e+00</td>\n",
              "      <td>1.088850e+00</td>\n",
              "      <td>1.020713e+00</td>\n",
              "      <td>9.992014e-01</td>\n",
              "      <td>9.952742e-01</td>\n",
              "      <td>9.585956e-01</td>\n",
              "      <td>9.153160e-01</td>\n",
              "      <td>8.762529e-01</td>\n",
              "      <td>8.493371e-01</td>\n",
              "      <td>8.381762e-01</td>\n",
              "      <td>8.140405e-01</td>\n",
              "      <td>7.709250e-01</td>\n",
              "      <td>7.345240e-01</td>\n",
              "      <td>7.257016e-01</td>\n",
              "      <td>6.244603e-01</td>\n",
              "      <td>6.056471e-01</td>\n",
              "      <td>5.212781e-01</td>\n",
              "      <td>4.822270e-01</td>\n",
              "      <td>4.036325e-01</td>\n",
              "      <td>3.300833e-01</td>\n",
              "      <td>250.120109</td>\n",
              "      <td>0.041527</td>\n",
              "    </tr>\n",
              "    <tr>\n",
              "      <th>min</th>\n",
              "      <td>-5.640751e+01</td>\n",
              "      <td>-7.271573e+01</td>\n",
              "      <td>-4.832559e+01</td>\n",
              "      <td>-5.683171e+00</td>\n",
              "      <td>-1.137433e+02</td>\n",
              "      <td>-2.616051e+01</td>\n",
              "      <td>-4.355724e+01</td>\n",
              "      <td>-7.321672e+01</td>\n",
              "      <td>-1.343407e+01</td>\n",
              "      <td>-2.458826e+01</td>\n",
              "      <td>-4.797473e+00</td>\n",
              "      <td>-1.868371e+01</td>\n",
              "      <td>-5.791881e+00</td>\n",
              "      <td>-1.921433e+01</td>\n",
              "      <td>-4.498945e+00</td>\n",
              "      <td>-1.412985e+01</td>\n",
              "      <td>-2.516280e+01</td>\n",
              "      <td>-9.498746e+00</td>\n",
              "      <td>-7.213527e+00</td>\n",
              "      <td>-5.449772e+01</td>\n",
              "      <td>-3.483038e+01</td>\n",
              "      <td>-1.093314e+01</td>\n",
              "      <td>-4.480774e+01</td>\n",
              "      <td>-2.836627e+00</td>\n",
              "      <td>-1.029540e+01</td>\n",
              "      <td>-2.604551e+00</td>\n",
              "      <td>-2.256568e+01</td>\n",
              "      <td>-1.543008e+01</td>\n",
              "      <td>0.000000</td>\n",
              "      <td>0.000000</td>\n",
              "    </tr>\n",
              "    <tr>\n",
              "      <th>25%</th>\n",
              "      <td>-9.203734e-01</td>\n",
              "      <td>-5.985499e-01</td>\n",
              "      <td>-8.903648e-01</td>\n",
              "      <td>-8.486401e-01</td>\n",
              "      <td>-6.915971e-01</td>\n",
              "      <td>-7.682956e-01</td>\n",
              "      <td>-5.540759e-01</td>\n",
              "      <td>-2.086297e-01</td>\n",
              "      <td>-6.430976e-01</td>\n",
              "      <td>-5.354257e-01</td>\n",
              "      <td>-7.624942e-01</td>\n",
              "      <td>-4.055715e-01</td>\n",
              "      <td>-6.485393e-01</td>\n",
              "      <td>-4.255740e-01</td>\n",
              "      <td>-5.828843e-01</td>\n",
              "      <td>-4.680368e-01</td>\n",
              "      <td>-4.837483e-01</td>\n",
              "      <td>-4.988498e-01</td>\n",
              "      <td>-4.562989e-01</td>\n",
              "      <td>-2.117214e-01</td>\n",
              "      <td>-2.283949e-01</td>\n",
              "      <td>-5.423504e-01</td>\n",
              "      <td>-1.618463e-01</td>\n",
              "      <td>-3.545861e-01</td>\n",
              "      <td>-3.171451e-01</td>\n",
              "      <td>-3.269839e-01</td>\n",
              "      <td>-7.083953e-02</td>\n",
              "      <td>-5.295979e-02</td>\n",
              "      <td>5.600000</td>\n",
              "      <td>0.000000</td>\n",
              "    </tr>\n",
              "    <tr>\n",
              "      <th>50%</th>\n",
              "      <td>1.810880e-02</td>\n",
              "      <td>6.548556e-02</td>\n",
              "      <td>1.798463e-01</td>\n",
              "      <td>-1.984653e-02</td>\n",
              "      <td>-5.433583e-02</td>\n",
              "      <td>-2.741871e-01</td>\n",
              "      <td>4.010308e-02</td>\n",
              "      <td>2.235804e-02</td>\n",
              "      <td>-5.142873e-02</td>\n",
              "      <td>-9.291738e-02</td>\n",
              "      <td>-3.275735e-02</td>\n",
              "      <td>1.400326e-01</td>\n",
              "      <td>-1.356806e-02</td>\n",
              "      <td>5.060132e-02</td>\n",
              "      <td>4.807155e-02</td>\n",
              "      <td>6.641332e-02</td>\n",
              "      <td>-6.567575e-02</td>\n",
              "      <td>-3.636312e-03</td>\n",
              "      <td>3.734823e-03</td>\n",
              "      <td>-6.248109e-02</td>\n",
              "      <td>-2.945017e-02</td>\n",
              "      <td>6.781943e-03</td>\n",
              "      <td>-1.119293e-02</td>\n",
              "      <td>4.097606e-02</td>\n",
              "      <td>1.659350e-02</td>\n",
              "      <td>-5.213911e-02</td>\n",
              "      <td>1.342146e-03</td>\n",
              "      <td>1.124383e-02</td>\n",
              "      <td>22.000000</td>\n",
              "      <td>0.000000</td>\n",
              "    </tr>\n",
              "    <tr>\n",
              "      <th>75%</th>\n",
              "      <td>1.315642e+00</td>\n",
              "      <td>8.037239e-01</td>\n",
              "      <td>1.027196e+00</td>\n",
              "      <td>7.433413e-01</td>\n",
              "      <td>6.119264e-01</td>\n",
              "      <td>3.985649e-01</td>\n",
              "      <td>5.704361e-01</td>\n",
              "      <td>3.273459e-01</td>\n",
              "      <td>5.971390e-01</td>\n",
              "      <td>4.539234e-01</td>\n",
              "      <td>7.395934e-01</td>\n",
              "      <td>6.182380e-01</td>\n",
              "      <td>6.625050e-01</td>\n",
              "      <td>4.931498e-01</td>\n",
              "      <td>6.488208e-01</td>\n",
              "      <td>5.232963e-01</td>\n",
              "      <td>3.996750e-01</td>\n",
              "      <td>5.008067e-01</td>\n",
              "      <td>4.589494e-01</td>\n",
              "      <td>1.330408e-01</td>\n",
              "      <td>1.863772e-01</td>\n",
              "      <td>5.285536e-01</td>\n",
              "      <td>1.476421e-01</td>\n",
              "      <td>4.395266e-01</td>\n",
              "      <td>3.507156e-01</td>\n",
              "      <td>2.409522e-01</td>\n",
              "      <td>9.104512e-02</td>\n",
              "      <td>7.827995e-02</td>\n",
              "      <td>77.165000</td>\n",
              "      <td>0.000000</td>\n",
              "    </tr>\n",
              "    <tr>\n",
              "      <th>max</th>\n",
              "      <td>2.454930e+00</td>\n",
              "      <td>2.205773e+01</td>\n",
              "      <td>9.382558e+00</td>\n",
              "      <td>1.687534e+01</td>\n",
              "      <td>3.480167e+01</td>\n",
              "      <td>7.330163e+01</td>\n",
              "      <td>1.205895e+02</td>\n",
              "      <td>2.000721e+01</td>\n",
              "      <td>1.559499e+01</td>\n",
              "      <td>2.374514e+01</td>\n",
              "      <td>1.201891e+01</td>\n",
              "      <td>7.848392e+00</td>\n",
              "      <td>7.126883e+00</td>\n",
              "      <td>1.052677e+01</td>\n",
              "      <td>8.877742e+00</td>\n",
              "      <td>1.731511e+01</td>\n",
              "      <td>9.253526e+00</td>\n",
              "      <td>5.041069e+00</td>\n",
              "      <td>5.591971e+00</td>\n",
              "      <td>3.942090e+01</td>\n",
              "      <td>2.720284e+01</td>\n",
              "      <td>1.050309e+01</td>\n",
              "      <td>2.252841e+01</td>\n",
              "      <td>4.584549e+00</td>\n",
              "      <td>7.519589e+00</td>\n",
              "      <td>3.517346e+00</td>\n",
              "      <td>3.161220e+01</td>\n",
              "      <td>3.384781e+01</td>\n",
              "      <td>25691.160000</td>\n",
              "      <td>1.000000</td>\n",
              "    </tr>\n",
              "  </tbody>\n",
              "</table>\n",
              "</div>"
            ],
            "text/plain": [
              "                 V1            V2  ...         Amount          Class\n",
              "count  2.848070e+05  2.848070e+05  ...  284807.000000  284807.000000\n",
              "mean   1.758743e-12 -8.252298e-13  ...      88.349619       0.001727\n",
              "std    1.958696e+00  1.651309e+00  ...     250.120109       0.041527\n",
              "min   -5.640751e+01 -7.271573e+01  ...       0.000000       0.000000\n",
              "25%   -9.203734e-01 -5.985499e-01  ...       5.600000       0.000000\n",
              "50%    1.810880e-02  6.548556e-02  ...      22.000000       0.000000\n",
              "75%    1.315642e+00  8.037239e-01  ...      77.165000       0.000000\n",
              "max    2.454930e+00  2.205773e+01  ...   25691.160000       1.000000\n",
              "\n",
              "[8 rows x 30 columns]"
            ]
          },
          "metadata": {
            "tags": []
          },
          "execution_count": 3
        }
      ]
    },
    {
      "cell_type": "code",
      "metadata": {
        "colab": {
          "base_uri": "https://localhost:8080/",
          "height": 224
        },
        "id": "HDaiLJJhy1Qs",
        "outputId": "662bd32f-f9e3-438e-9238-c324ea073905"
      },
      "source": [
        "data.head()"
      ],
      "execution_count": 32,
      "outputs": [
        {
          "output_type": "execute_result",
          "data": {
            "text/html": [
              "<div>\n",
              "<style scoped>\n",
              "    .dataframe tbody tr th:only-of-type {\n",
              "        vertical-align: middle;\n",
              "    }\n",
              "\n",
              "    .dataframe tbody tr th {\n",
              "        vertical-align: top;\n",
              "    }\n",
              "\n",
              "    .dataframe thead th {\n",
              "        text-align: right;\n",
              "    }\n",
              "</style>\n",
              "<table border=\"1\" class=\"dataframe\">\n",
              "  <thead>\n",
              "    <tr style=\"text-align: right;\">\n",
              "      <th></th>\n",
              "      <th>V1</th>\n",
              "      <th>V2</th>\n",
              "      <th>V3</th>\n",
              "      <th>V4</th>\n",
              "      <th>V5</th>\n",
              "      <th>V6</th>\n",
              "      <th>V7</th>\n",
              "      <th>V8</th>\n",
              "      <th>V9</th>\n",
              "      <th>V10</th>\n",
              "      <th>V11</th>\n",
              "      <th>V12</th>\n",
              "      <th>V13</th>\n",
              "      <th>V14</th>\n",
              "      <th>V15</th>\n",
              "      <th>V16</th>\n",
              "      <th>V17</th>\n",
              "      <th>V18</th>\n",
              "      <th>V19</th>\n",
              "      <th>V20</th>\n",
              "      <th>V21</th>\n",
              "      <th>V22</th>\n",
              "      <th>V23</th>\n",
              "      <th>V24</th>\n",
              "      <th>V25</th>\n",
              "      <th>V26</th>\n",
              "      <th>V27</th>\n",
              "      <th>V28</th>\n",
              "      <th>Amount</th>\n",
              "      <th>Class</th>\n",
              "    </tr>\n",
              "  </thead>\n",
              "  <tbody>\n",
              "    <tr>\n",
              "      <th>0</th>\n",
              "      <td>-1.359807</td>\n",
              "      <td>-0.072781</td>\n",
              "      <td>2.536347</td>\n",
              "      <td>1.378155</td>\n",
              "      <td>-0.338321</td>\n",
              "      <td>0.462388</td>\n",
              "      <td>0.239599</td>\n",
              "      <td>0.098698</td>\n",
              "      <td>0.363787</td>\n",
              "      <td>0.090794</td>\n",
              "      <td>-0.551600</td>\n",
              "      <td>-0.617801</td>\n",
              "      <td>-0.991390</td>\n",
              "      <td>-0.311169</td>\n",
              "      <td>1.468177</td>\n",
              "      <td>-0.470401</td>\n",
              "      <td>0.207971</td>\n",
              "      <td>0.025791</td>\n",
              "      <td>0.403993</td>\n",
              "      <td>0.251412</td>\n",
              "      <td>-0.018307</td>\n",
              "      <td>0.277838</td>\n",
              "      <td>-0.110474</td>\n",
              "      <td>0.066928</td>\n",
              "      <td>0.128539</td>\n",
              "      <td>-0.189115</td>\n",
              "      <td>0.133558</td>\n",
              "      <td>-0.021053</td>\n",
              "      <td>149.62</td>\n",
              "      <td>0</td>\n",
              "    </tr>\n",
              "    <tr>\n",
              "      <th>1</th>\n",
              "      <td>1.191857</td>\n",
              "      <td>0.266151</td>\n",
              "      <td>0.166480</td>\n",
              "      <td>0.448154</td>\n",
              "      <td>0.060018</td>\n",
              "      <td>-0.082361</td>\n",
              "      <td>-0.078803</td>\n",
              "      <td>0.085102</td>\n",
              "      <td>-0.255425</td>\n",
              "      <td>-0.166974</td>\n",
              "      <td>1.612727</td>\n",
              "      <td>1.065235</td>\n",
              "      <td>0.489095</td>\n",
              "      <td>-0.143772</td>\n",
              "      <td>0.635558</td>\n",
              "      <td>0.463917</td>\n",
              "      <td>-0.114805</td>\n",
              "      <td>-0.183361</td>\n",
              "      <td>-0.145783</td>\n",
              "      <td>-0.069083</td>\n",
              "      <td>-0.225775</td>\n",
              "      <td>-0.638672</td>\n",
              "      <td>0.101288</td>\n",
              "      <td>-0.339846</td>\n",
              "      <td>0.167170</td>\n",
              "      <td>0.125895</td>\n",
              "      <td>-0.008983</td>\n",
              "      <td>0.014724</td>\n",
              "      <td>2.69</td>\n",
              "      <td>0</td>\n",
              "    </tr>\n",
              "    <tr>\n",
              "      <th>2</th>\n",
              "      <td>-1.358354</td>\n",
              "      <td>-1.340163</td>\n",
              "      <td>1.773209</td>\n",
              "      <td>0.379780</td>\n",
              "      <td>-0.503198</td>\n",
              "      <td>1.800499</td>\n",
              "      <td>0.791461</td>\n",
              "      <td>0.247676</td>\n",
              "      <td>-1.514654</td>\n",
              "      <td>0.207643</td>\n",
              "      <td>0.624501</td>\n",
              "      <td>0.066084</td>\n",
              "      <td>0.717293</td>\n",
              "      <td>-0.165946</td>\n",
              "      <td>2.345865</td>\n",
              "      <td>-2.890083</td>\n",
              "      <td>1.109969</td>\n",
              "      <td>-0.121359</td>\n",
              "      <td>-2.261857</td>\n",
              "      <td>0.524980</td>\n",
              "      <td>0.247998</td>\n",
              "      <td>0.771679</td>\n",
              "      <td>0.909412</td>\n",
              "      <td>-0.689281</td>\n",
              "      <td>-0.327642</td>\n",
              "      <td>-0.139097</td>\n",
              "      <td>-0.055353</td>\n",
              "      <td>-0.059752</td>\n",
              "      <td>378.66</td>\n",
              "      <td>0</td>\n",
              "    </tr>\n",
              "    <tr>\n",
              "      <th>3</th>\n",
              "      <td>-0.966272</td>\n",
              "      <td>-0.185226</td>\n",
              "      <td>1.792993</td>\n",
              "      <td>-0.863291</td>\n",
              "      <td>-0.010309</td>\n",
              "      <td>1.247203</td>\n",
              "      <td>0.237609</td>\n",
              "      <td>0.377436</td>\n",
              "      <td>-1.387024</td>\n",
              "      <td>-0.054952</td>\n",
              "      <td>-0.226487</td>\n",
              "      <td>0.178228</td>\n",
              "      <td>0.507757</td>\n",
              "      <td>-0.287924</td>\n",
              "      <td>-0.631418</td>\n",
              "      <td>-1.059647</td>\n",
              "      <td>-0.684093</td>\n",
              "      <td>1.965775</td>\n",
              "      <td>-1.232622</td>\n",
              "      <td>-0.208038</td>\n",
              "      <td>-0.108300</td>\n",
              "      <td>0.005274</td>\n",
              "      <td>-0.190321</td>\n",
              "      <td>-1.175575</td>\n",
              "      <td>0.647376</td>\n",
              "      <td>-0.221929</td>\n",
              "      <td>0.062723</td>\n",
              "      <td>0.061458</td>\n",
              "      <td>123.50</td>\n",
              "      <td>0</td>\n",
              "    </tr>\n",
              "    <tr>\n",
              "      <th>4</th>\n",
              "      <td>-1.158233</td>\n",
              "      <td>0.877737</td>\n",
              "      <td>1.548718</td>\n",
              "      <td>0.403034</td>\n",
              "      <td>-0.407193</td>\n",
              "      <td>0.095921</td>\n",
              "      <td>0.592941</td>\n",
              "      <td>-0.270533</td>\n",
              "      <td>0.817739</td>\n",
              "      <td>0.753074</td>\n",
              "      <td>-0.822843</td>\n",
              "      <td>0.538196</td>\n",
              "      <td>1.345852</td>\n",
              "      <td>-1.119670</td>\n",
              "      <td>0.175121</td>\n",
              "      <td>-0.451449</td>\n",
              "      <td>-0.237033</td>\n",
              "      <td>-0.038195</td>\n",
              "      <td>0.803487</td>\n",
              "      <td>0.408542</td>\n",
              "      <td>-0.009431</td>\n",
              "      <td>0.798278</td>\n",
              "      <td>-0.137458</td>\n",
              "      <td>0.141267</td>\n",
              "      <td>-0.206010</td>\n",
              "      <td>0.502292</td>\n",
              "      <td>0.219422</td>\n",
              "      <td>0.215153</td>\n",
              "      <td>69.99</td>\n",
              "      <td>0</td>\n",
              "    </tr>\n",
              "  </tbody>\n",
              "</table>\n",
              "</div>"
            ],
            "text/plain": [
              "         V1        V2        V3        V4  ...       V27       V28  Amount  Class\n",
              "0 -1.359807 -0.072781  2.536347  1.378155  ...  0.133558 -0.021053  149.62      0\n",
              "1  1.191857  0.266151  0.166480  0.448154  ... -0.008983  0.014724    2.69      0\n",
              "2 -1.358354 -1.340163  1.773209  0.379780  ... -0.055353 -0.059752  378.66      0\n",
              "3 -0.966272 -0.185226  1.792993 -0.863291  ...  0.062723  0.061458  123.50      0\n",
              "4 -1.158233  0.877737  1.548718  0.403034  ...  0.219422  0.215153   69.99      0\n",
              "\n",
              "[5 rows x 30 columns]"
            ]
          },
          "metadata": {
            "tags": []
          },
          "execution_count": 32
        }
      ]
    },
    {
      "cell_type": "code",
      "metadata": {
        "colab": {
          "base_uri": "https://localhost:8080/"
        },
        "id": "xRfLRxnHTHhP",
        "outputId": "51fd241e-963b-4542-86ca-787bb3085482"
      },
      "source": [
        "data.shape"
      ],
      "execution_count": 5,
      "outputs": [
        {
          "output_type": "execute_result",
          "data": {
            "text/plain": [
              "(284807, 30)"
            ]
          },
          "metadata": {
            "tags": []
          },
          "execution_count": 5
        }
      ]
    },
    {
      "cell_type": "code",
      "metadata": {
        "id": "Zk6y66BoXFnC"
      },
      "source": [
        ""
      ],
      "execution_count": null,
      "outputs": []
    },
    {
      "cell_type": "code",
      "metadata": {
        "id": "mY9OPhINTHqG"
      },
      "source": [
        "Y=data['Class']\n",
        "X=data.drop(columns=['Class'])"
      ],
      "execution_count": 6,
      "outputs": []
    },
    {
      "cell_type": "code",
      "metadata": {
        "id": "wm8zkN4ITHzd"
      },
      "source": [
        "model=Sequential()"
      ],
      "execution_count": 7,
      "outputs": []
    },
    {
      "cell_type": "code",
      "metadata": {
        "id": "EIPfOmQGTH8Z"
      },
      "source": [
        "X_train,X_test,y_train,y_test=train_test_split(X,Y)"
      ],
      "execution_count": 8,
      "outputs": []
    },
    {
      "cell_type": "code",
      "metadata": {
        "id": "d7cgMXCxTIFz"
      },
      "source": [
        "model.add(Dense(20,input_dim=29,kernel_initializer=\"uniform\",activation=\"sigmoid\"))\n",
        "model.add(Dense(10,kernel_initializer=\"uniform\",activation=\"sigmoid\"))\n",
        "model.add(Dense(25,kernel_initializer=\"uniform\",activation=\"sigmoid\"))\n",
        "model.add(Dense(5,kernel_initializer=\"uniform\",activation=\"sigmoid\"))\n",
        "model.add(Dense(1,kernel_initializer=\"uniform\",activation=\"sigmoid\"))\n"
      ],
      "execution_count": 9,
      "outputs": []
    },
    {
      "cell_type": "code",
      "metadata": {
        "colab": {
          "base_uri": "https://localhost:8080/"
        },
        "id": "kn_UMqoVTIOn",
        "outputId": "618da244-853c-47a3-c340-c52e2bdde05f"
      },
      "source": [
        "model.summary()"
      ],
      "execution_count": 10,
      "outputs": [
        {
          "output_type": "stream",
          "text": [
            "Model: \"sequential\"\n",
            "_________________________________________________________________\n",
            "Layer (type)                 Output Shape              Param #   \n",
            "=================================================================\n",
            "dense (Dense)                (None, 20)                600       \n",
            "_________________________________________________________________\n",
            "dense_1 (Dense)              (None, 10)                210       \n",
            "_________________________________________________________________\n",
            "dense_2 (Dense)              (None, 25)                275       \n",
            "_________________________________________________________________\n",
            "dense_3 (Dense)              (None, 5)                 130       \n",
            "_________________________________________________________________\n",
            "dense_4 (Dense)              (None, 1)                 6         \n",
            "=================================================================\n",
            "Total params: 1,221\n",
            "Trainable params: 1,221\n",
            "Non-trainable params: 0\n",
            "_________________________________________________________________\n"
          ],
          "name": "stdout"
        }
      ]
    },
    {
      "cell_type": "code",
      "metadata": {
        "id": "XndTiYWOTIXf"
      },
      "source": [
        "def create_model():\n",
        "    model=Sequential()\n",
        "    model.add(Dense(1000,input_dim=29,kernel_initializer=\"uniform\",kernel_constraint=maxnorm(0),activation=\"relu\"))\n",
        "    model.add(Dropout(0.1))\n",
        "    model.add(Dense(1,kernel_initializer=\"uniform\",activation=\"relu\"))\n",
        "    model.compile(metrics=['accuracy'],loss='binary_crossentropy',optimizer=\"adagrad\")\n",
        "    return model"
      ],
      "execution_count": 15,
      "outputs": []
    },
    {
      "cell_type": "code",
      "metadata": {
        "id": "mhL9O1LFZ4F5"
      },
      "source": [
        "newmodel=KerasClassifier(build_fn=create_model)"
      ],
      "execution_count": 16,
      "outputs": []
    },
    {
      "cell_type": "code",
      "metadata": {
        "id": "s8ChzmOOZ4aS"
      },
      "source": [
        "epochs=[2,5]\n",
        "batch=[2000,4000]\n"
      ],
      "execution_count": 17,
      "outputs": []
    },
    {
      "cell_type": "code",
      "metadata": {
        "id": "l1t-G5nMZ4gd"
      },
      "source": [
        "param_grid=dict(epochs=epochs,batch_size=batch)"
      ],
      "execution_count": 18,
      "outputs": []
    },
    {
      "cell_type": "code",
      "metadata": {
        "id": "SLLdQyG_Z4nN"
      },
      "source": [
        "from sklearn.model_selection import GridSearchCV"
      ],
      "execution_count": 19,
      "outputs": []
    },
    {
      "cell_type": "code",
      "metadata": {
        "id": "D4JHy1MdZ4s2"
      },
      "source": [
        "gridmodel=GridSearchCV(estimator=newmodel,param_grid=param_grid)"
      ],
      "execution_count": 21,
      "outputs": []
    },
    {
      "cell_type": "code",
      "metadata": {
        "colab": {
          "base_uri": "https://localhost:8080/"
        },
        "id": "_u_0vDO8Z4y7",
        "outputId": "0ef2fdd1-93cd-4e37-b9ab-645a01a35592"
      },
      "source": [
        "RESULT=gridmodel.fit(X_train,y_train)"
      ],
      "execution_count": 28,
      "outputs": [
        {
          "output_type": "stream",
          "text": [
            "Epoch 1/2\n",
            "86/86 [==============================] - 4s 42ms/step - loss: 0.0507 - accuracy: 0.9958\n",
            "Epoch 2/2\n",
            "86/86 [==============================] - 4s 41ms/step - loss: 0.0258 - accuracy: 0.9983\n",
            "22/22 [==============================] - 0s 7ms/step - loss: 0.0303 - accuracy: 0.9980\n",
            "Epoch 1/2\n",
            "86/86 [==============================] - 4s 40ms/step - loss: 0.0771 - accuracy: 0.9936\n",
            "Epoch 2/2\n",
            "86/86 [==============================] - 4s 41ms/step - loss: 0.0269 - accuracy: 0.9983\n",
            "22/22 [==============================] - 0s 7ms/step - loss: 0.0260 - accuracy: 0.9983\n",
            "Epoch 1/2\n",
            "86/86 [==============================] - 4s 42ms/step - loss: 0.0265 - accuracy: 0.9983\n",
            "Epoch 2/2\n",
            "86/86 [==============================] - 4s 41ms/step - loss: 0.0265 - accuracy: 0.9983\n",
            "22/22 [==============================] - 0s 6ms/step - loss: 0.0274 - accuracy: 0.9982\n",
            "Epoch 1/2\n",
            "86/86 [==============================] - 4s 40ms/step - loss: 0.0689 - accuracy: 0.9942\n",
            "Epoch 2/2\n",
            "86/86 [==============================] - 3s 41ms/step - loss: 0.0284 - accuracy: 0.9982\n",
            "22/22 [==============================] - 0s 7ms/step - loss: 0.0199 - accuracy: 0.9987\n",
            "Epoch 1/2\n",
            "86/86 [==============================] - 4s 39ms/step - loss: 0.0977 - accuracy: 0.9923\n",
            "Epoch 2/2\n",
            "86/86 [==============================] - 3s 39ms/step - loss: 0.0259 - accuracy: 0.9983\n",
            "22/22 [==============================] - 0s 7ms/step - loss: 0.0300 - accuracy: 0.9981\n",
            "Epoch 1/5\n",
            "86/86 [==============================] - 4s 42ms/step - loss: 0.0954 - accuracy: 0.9924\n",
            "Epoch 2/5\n",
            "86/86 [==============================] - 4s 42ms/step - loss: 0.0258 - accuracy: 0.9983\n",
            "Epoch 3/5\n",
            "86/86 [==============================] - 4s 41ms/step - loss: 0.0258 - accuracy: 0.9983\n",
            "Epoch 4/5\n",
            "86/86 [==============================] - 4s 42ms/step - loss: 0.0258 - accuracy: 0.9983\n",
            "Epoch 5/5\n",
            "86/86 [==============================] - 4s 42ms/step - loss: 0.0258 - accuracy: 0.9983\n",
            "22/22 [==============================] - 0s 7ms/step - loss: 0.0303 - accuracy: 0.9980\n",
            "Epoch 1/5\n",
            "86/86 [==============================] - 4s 45ms/step - loss: 0.0293 - accuracy: 0.9979\n",
            "Epoch 2/5\n",
            "86/86 [==============================] - 4s 43ms/step - loss: 0.0269 - accuracy: 0.9983\n",
            "Epoch 3/5\n",
            "86/86 [==============================] - 4s 43ms/step - loss: 0.0269 - accuracy: 0.9983\n",
            "Epoch 4/5\n",
            "86/86 [==============================] - 4s 43ms/step - loss: 0.0269 - accuracy: 0.9983\n",
            "Epoch 5/5\n",
            "86/86 [==============================] - 4s 43ms/step - loss: 0.0269 - accuracy: 0.9983\n",
            "22/22 [==============================] - 0s 7ms/step - loss: 0.0260 - accuracy: 0.9983\n",
            "Epoch 1/5\n",
            "86/86 [==============================] - 4s 42ms/step - loss: 0.0269 - accuracy: 0.9982\n",
            "Epoch 2/5\n",
            "86/86 [==============================] - 4s 43ms/step - loss: 0.0265 - accuracy: 0.9983\n",
            "Epoch 3/5\n",
            "86/86 [==============================] - 4s 43ms/step - loss: 0.0265 - accuracy: 0.9983\n",
            "Epoch 4/5\n",
            "86/86 [==============================] - 4s 43ms/step - loss: 0.0265 - accuracy: 0.9983\n",
            "Epoch 5/5\n",
            "86/86 [==============================] - 4s 41ms/step - loss: 0.0265 - accuracy: 0.9983\n",
            "22/22 [==============================] - 0s 7ms/step - loss: 0.0274 - accuracy: 0.9982\n",
            "Epoch 1/5\n",
            "86/86 [==============================] - 4s 41ms/step - loss: 0.0932 - accuracy: 0.9925\n",
            "Epoch 2/5\n",
            "86/86 [==============================] - 4s 41ms/step - loss: 0.0284 - accuracy: 0.9982\n",
            "Epoch 3/5\n",
            "86/86 [==============================] - 4s 41ms/step - loss: 0.0284 - accuracy: 0.9982\n",
            "Epoch 4/5\n",
            "86/86 [==============================] - 3s 41ms/step - loss: 0.0284 - accuracy: 0.9982\n",
            "Epoch 5/5\n",
            "86/86 [==============================] - 4s 42ms/step - loss: 0.0284 - accuracy: 0.9982\n",
            "22/22 [==============================] - 0s 7ms/step - loss: 0.0199 - accuracy: 0.9987\n",
            "Epoch 1/5\n",
            "86/86 [==============================] - 4s 41ms/step - loss: 0.0974 - accuracy: 0.9924\n",
            "Epoch 2/5\n",
            "86/86 [==============================] - 4s 41ms/step - loss: 0.0259 - accuracy: 0.9983\n",
            "Epoch 3/5\n",
            "86/86 [==============================] - 4s 41ms/step - loss: 0.0259 - accuracy: 0.9983\n",
            "Epoch 4/5\n",
            "86/86 [==============================] - 4s 42ms/step - loss: 0.0259 - accuracy: 0.9983\n",
            "Epoch 5/5\n",
            "86/86 [==============================] - 4s 42ms/step - loss: 0.0259 - accuracy: 0.9983\n",
            "22/22 [==============================] - 0s 9ms/step - loss: 0.0300 - accuracy: 0.9981\n",
            "Epoch 1/2\n",
            "43/43 [==============================] - 4s 83ms/step - loss: 0.1240 - accuracy: 0.9891\n",
            "Epoch 2/2\n",
            "43/43 [==============================] - 4s 84ms/step - loss: 0.0258 - accuracy: 0.9983\n",
            "11/11 [==============================] - 0s 13ms/step - loss: 0.0303 - accuracy: 0.9980\n",
            "Epoch 1/2\n",
            "43/43 [==============================] - 4s 87ms/step - loss: 0.1662 - accuracy: 0.9862\n",
            "Epoch 2/2\n",
            "43/43 [==============================] - 3s 81ms/step - loss: 0.0269 - accuracy: 0.9983\n",
            "11/11 [==============================] - 0s 12ms/step - loss: 0.0260 - accuracy: 0.9983\n",
            "Epoch 1/2\n",
            "43/43 [==============================] - 4s 80ms/step - loss: 0.0267 - accuracy: 0.9982\n",
            "Epoch 2/2\n",
            "43/43 [==============================] - 3s 80ms/step - loss: 0.0265 - accuracy: 0.9983\n",
            "11/11 [==============================] - 0s 12ms/step - loss: 0.0274 - accuracy: 0.9982\n",
            "Epoch 1/2\n",
            "43/43 [==============================] - 4s 80ms/step - loss: 0.0991 - accuracy: 0.9912\n",
            "Epoch 2/2\n",
            "43/43 [==============================] - 3s 80ms/step - loss: 0.0284 - accuracy: 0.9982\n",
            "11/11 [==============================] - 0s 13ms/step - loss: 0.0199 - accuracy: 0.9987\n",
            "Epoch 1/2\n",
            "43/43 [==============================] - 4s 81ms/step - loss: 0.1077 - accuracy: 0.9907\n",
            "Epoch 2/2\n",
            "43/43 [==============================] - 4s 82ms/step - loss: 0.0259 - accuracy: 0.9983\n",
            "11/11 [==============================] - 0s 15ms/step - loss: 0.0300 - accuracy: 0.9981\n",
            "Epoch 1/5\n",
            "43/43 [==============================] - 4s 79ms/step - loss: 0.1345 - accuracy: 0.9885\n",
            "Epoch 2/5\n",
            "43/43 [==============================] - 3s 79ms/step - loss: 0.0258 - accuracy: 0.9983\n",
            "Epoch 3/5\n",
            "43/43 [==============================] - 3s 80ms/step - loss: 0.0258 - accuracy: 0.9983\n",
            "Epoch 4/5\n",
            "43/43 [==============================] - 3s 80ms/step - loss: 0.0258 - accuracy: 0.9983\n",
            "Epoch 5/5\n",
            "43/43 [==============================] - 3s 79ms/step - loss: 0.0258 - accuracy: 0.9983\n",
            "11/11 [==============================] - 0s 13ms/step - loss: 0.0303 - accuracy: 0.9980\n",
            "Epoch 1/5\n",
            "43/43 [==============================] - 4s 81ms/step - loss: 0.0269 - accuracy: 0.9983\n",
            "Epoch 2/5\n",
            "43/43 [==============================] - 3s 80ms/step - loss: 0.0269 - accuracy: 0.9983\n",
            "Epoch 3/5\n",
            "43/43 [==============================] - 3s 79ms/step - loss: 0.0269 - accuracy: 0.9983\n",
            "Epoch 4/5\n",
            "43/43 [==============================] - 3s 78ms/step - loss: 0.0269 - accuracy: 0.9983\n",
            "Epoch 5/5\n",
            "43/43 [==============================] - 3s 78ms/step - loss: 0.0269 - accuracy: 0.9983\n",
            "11/11 [==============================] - 0s 15ms/step - loss: 0.0260 - accuracy: 0.9983\n",
            "Epoch 1/5\n",
            "43/43 [==============================] - 4s 80ms/step - loss: 0.0338 - accuracy: 0.9975\n",
            "Epoch 2/5\n",
            "43/43 [==============================] - 3s 80ms/step - loss: 0.0265 - accuracy: 0.9983\n",
            "Epoch 3/5\n",
            "43/43 [==============================] - 3s 80ms/step - loss: 0.0265 - accuracy: 0.9983\n",
            "Epoch 4/5\n",
            "43/43 [==============================] - 3s 81ms/step - loss: 0.0265 - accuracy: 0.9983\n",
            "Epoch 5/5\n",
            "43/43 [==============================] - 3s 80ms/step - loss: 0.0265 - accuracy: 0.9983\n",
            "11/11 [==============================] - 1s 13ms/step - loss: 0.0274 - accuracy: 0.9982\n",
            "Epoch 1/5\n",
            "43/43 [==============================] - 4s 79ms/step - loss: 0.0286 - accuracy: 0.9982\n",
            "Epoch 2/5\n",
            "43/43 [==============================] - 3s 80ms/step - loss: 0.0284 - accuracy: 0.9982\n",
            "Epoch 3/5\n",
            "43/43 [==============================] - 3s 80ms/step - loss: 0.0284 - accuracy: 0.9982\n",
            "Epoch 4/5\n",
            "43/43 [==============================] - 3s 81ms/step - loss: 0.0284 - accuracy: 0.9982\n",
            "Epoch 5/5\n",
            "43/43 [==============================] - 3s 81ms/step - loss: 0.0284 - accuracy: 0.9982\n",
            "11/11 [==============================] - 0s 13ms/step - loss: 0.0199 - accuracy: 0.9987\n",
            "Epoch 1/5\n",
            "43/43 [==============================] - 4s 86ms/step - loss: 0.1343 - accuracy: 0.9884\n",
            "Epoch 2/5\n",
            "43/43 [==============================] - 4s 82ms/step - loss: 0.0259 - accuracy: 0.9983\n",
            "Epoch 3/5\n",
            "43/43 [==============================] - 3s 79ms/step - loss: 0.0259 - accuracy: 0.9983\n",
            "Epoch 4/5\n",
            "43/43 [==============================] - 3s 78ms/step - loss: 0.0259 - accuracy: 0.9983\n",
            "Epoch 5/5\n",
            "43/43 [==============================] - 3s 79ms/step - loss: 0.0259 - accuracy: 0.9983\n",
            "11/11 [==============================] - 0s 14ms/step - loss: 0.0300 - accuracy: 0.9981\n",
            "Epoch 1/2\n",
            "107/107 [==============================] - 5s 41ms/step - loss: 0.0267 - accuracy: 0.9983\n",
            "Epoch 2/2\n",
            "107/107 [==============================] - 4s 41ms/step - loss: 0.0267 - accuracy: 0.9983\n"
          ],
          "name": "stdout"
        }
      ]
    },
    {
      "cell_type": "code",
      "metadata": {
        "colab": {
          "base_uri": "https://localhost:8080/"
        },
        "id": "jSY6AewaZ4-Q",
        "outputId": "1836bc7e-a3fe-432a-8486-2941a679cc60"
      },
      "source": [
        "RESULT.best_params_"
      ],
      "execution_count": 29,
      "outputs": [
        {
          "output_type": "execute_result",
          "data": {
            "text/plain": [
              "{'batch_size': 2000, 'epochs': 2}"
            ]
          },
          "metadata": {
            "tags": []
          },
          "execution_count": 29
        }
      ]
    },
    {
      "cell_type": "code",
      "metadata": {
        "colab": {
          "base_uri": "https://localhost:8080/"
        },
        "id": "P-AFyntRZ5Eq",
        "outputId": "15dacd69-88fc-4fd9-958b-4d9330941448"
      },
      "source": [
        "RESULT.best_score_"
      ],
      "execution_count": 30,
      "outputs": [
        {
          "output_type": "execute_result",
          "data": {
            "text/plain": [
              "0.9982678413391113"
            ]
          },
          "metadata": {
            "tags": []
          },
          "execution_count": 30
        }
      ]
    },
    {
      "cell_type": "code",
      "metadata": {
        "colab": {
          "base_uri": "https://localhost:8080/"
        },
        "id": "bLmD2gcJZ5LJ",
        "outputId": "33c91841-bbab-4bbf-8ff8-a576e0e80cc8"
      },
      "source": [
        "RESULT.cv_results_"
      ],
      "execution_count": 31,
      "outputs": [
        {
          "output_type": "execute_result",
          "data": {
            "text/plain": [
              "{'mean_fit_time': array([ 7.62751184, 19.33349118,  8.98482795, 20.4493762 ]),\n",
              " 'mean_score_time': array([0.37848349, 0.46332135, 0.34526067, 0.41885433]),\n",
              " 'mean_test_score': array([0.99826784, 0.99826784, 0.99826784, 0.99826784]),\n",
              " 'param_batch_size': masked_array(data=[2000, 2000, 4000, 4000],\n",
              "              mask=[False, False, False, False],\n",
              "        fill_value='?',\n",
              "             dtype=object),\n",
              " 'param_epochs': masked_array(data=[2, 5, 2, 5],\n",
              "              mask=[False, False, False, False],\n",
              "        fill_value='?',\n",
              "             dtype=object),\n",
              " 'params': [{'batch_size': 2000, 'epochs': 2},\n",
              "  {'batch_size': 2000, 'epochs': 5},\n",
              "  {'batch_size': 4000, 'epochs': 2},\n",
              "  {'batch_size': 4000, 'epochs': 5}],\n",
              " 'rank_test_score': array([1, 1, 1, 1], dtype=int32),\n",
              " 'split0_test_score': array([0.99803376, 0.99803376, 0.99803376, 0.99803376]),\n",
              " 'split1_test_score': array([0.99831462, 0.99831462, 0.99831462, 0.99831462]),\n",
              " 'split2_test_score': array([0.99822104, 0.99822104, 0.99822104, 0.99822104]),\n",
              " 'split3_test_score': array([0.9987126, 0.9987126, 0.9987126, 0.9987126]),\n",
              " 'split4_test_score': array([0.99805719, 0.99805719, 0.99805719, 0.99805719]),\n",
              " 'std_fit_time': array([0.18129837, 1.14300214, 1.5029075 , 1.29625142]),\n",
              " 'std_score_time': array([0.05706891, 0.05967649, 0.02004032, 0.13807283]),\n",
              " 'std_test_score': array([0.0002455, 0.0002455, 0.0002455, 0.0002455])}"
            ]
          },
          "metadata": {
            "tags": []
          },
          "execution_count": 31
        }
      ]
    }
  ]
}